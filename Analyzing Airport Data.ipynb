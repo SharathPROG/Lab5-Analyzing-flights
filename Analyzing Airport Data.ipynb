{
  "nbformat": 4,
  "nbformat_minor": 0,
  "metadata": {
    "colab": {
      "name": "lab5.ipynb",
      "provenance": []
    },
    "kernelspec": {
      "name": "python3",
      "display_name": "Python 3"
    },
    "language_info": {
      "name": "python"
    }
  },
  "cells": [
    {
      "cell_type": "code",
      "metadata": {
        "id": "HSb37JM3YN4C"
      },
      "source": [
        "import csv #importing csv module, will be use in parsing csv files"
      ],
      "execution_count": 1,
      "outputs": []
    },
    {
      "cell_type": "code",
      "metadata": {
        "id": "rt6YLdcfYN1L"
      },
      "source": [
        "#challenge 1 , challenge was to create a function that can take a country name and gives all the airport name , using airport.dat file.\n",
        "\n",
        "def getAirportCountry(countryName):\n",
        "  f = open(\"airports.dat\")   #opening the file using file handler\n",
        "  for row in csv.reader(f):  #starting to read dat file using csv module\n",
        "      airportName=row[1]     #as airportname was in seccond column of the file , i.e index 1\n",
        "      country=row[3]\n",
        "      if(country==countryName): \n",
        "        print(airportName)\n",
        "  \n",
        "getAirportCountry(\"India\")"
      ],
      "execution_count": null,
      "outputs": []
    },
    {
      "cell_type": "code",
      "metadata": {
        "id": "NsF_lVXZFILW"
      },
      "source": [
        "## Challenge 2 - Reading the airport database\n",
        "\n",
        "airportLattitudeMap={}  #intializing two dictionary datatype for mapping lattiude,longitude seperately  and airport id\n",
        "airportLongitudeMap={}\n",
        "\n",
        "f = open(\"airports.dat\")\n",
        "for row in csv.reader(f):\n",
        "  airportID=row[0]\n",
        "  lattitude=row[6]\n",
        "  longitude=row[7]\n",
        "  airportLattitudeMap[airportID]=lattitude\n",
        "  airportLongitudeMap[airportID]=longitude\n",
        "\n"
      ],
      "execution_count": 8,
      "outputs": []
    },
    {
      "cell_type": "code",
      "metadata": {
        "colab": {
          "base_uri": "https://localhost:8080/"
        },
        "id": "Kk790vDkcFct",
        "outputId": "a9063b46-d61e-4c93-ffdc-dde036d76df5"
      },
      "source": [
        "##Challenge 3 - Route distances\n",
        "import geo_distance  #importing the already written function/module \n",
        "\n",
        "f = open(\"routes.dat\") #opening the file using file handler\n",
        "distances=[]           #intializing empty array to hold distance values (to be using in next challenge)\n",
        "for row in csv.reader(f):  #starting to read dat file using csv module\n",
        "  id1=row[3]\n",
        "  id2=row[5]\n",
        "  if(id1 in airportLattitudeMap):   #checking if airport id is mapped in airportLattitudeMap\n",
        "    lat1=airportLattitudeMap[id1]\n",
        "    long1=airportLongitudeMap[id1]\n",
        "  else:\n",
        "    continue\n",
        "  if(id2 in airportLattitudeMap):   #checking if airport id is mapped in airportLattitudeMap\n",
        "    lat2=airportLattitudeMap[id2]\n",
        "    long2=airportLongitudeMap[id2]\n",
        "  else:\n",
        "    continue\n",
        "  distance=geo_distance.distance(float(lat1),float(long1),float(lat2),float(long2))  #calcluating distance between two sirports based on the formula already written\n",
        "  distances.append(distance)\n",
        "  print('distance between '+str(id1) +' and '+ str(id2)+' is :',distance)"
      ],
      "execution_count": 12,
      "outputs": [
        {
          "output_type": "execute_result",
          "data": {
            "text/plain": [
              "15973.237754707652"
            ]
          },
          "metadata": {
            "tags": []
          },
          "execution_count": 12
        }
      ]
    },
    {
      "cell_type": "code",
      "metadata": {
        "colab": {
          "base_uri": "https://localhost:8080/",
          "height": 1000
        },
        "id": "aQSOocHXe-xF",
        "outputId": "cbd2781e-4e4f-4df2-b9c1-dfe7bfea5178"
      },
      "source": [
        "## Challenge 4 - Histogram\n",
        "import matplotlib.pyplot as plt\n",
        "\n",
        "plt.hist(distances,100)   #invoking plt.hist function to plot histogram"
      ],
      "execution_count": 23,
      "outputs": [
        {
          "output_type": "execute_result",
          "data": {
            "text/plain": [
              "(array([1.931e+03, 4.276e+03, 5.466e+03, 5.336e+03, 5.175e+03, 4.883e+03,\n",
              "        4.305e+03, 4.056e+03, 3.456e+03, 3.180e+03, 3.012e+03, 2.289e+03,\n",
              "        1.883e+03, 1.582e+03, 1.300e+03, 1.343e+03, 1.109e+03, 1.083e+03,\n",
              "        1.066e+03, 7.400e+02, 7.480e+02, 6.100e+02, 4.790e+02, 4.010e+02,\n",
              "        3.850e+02, 3.030e+02, 2.500e+02, 1.880e+02, 2.000e+02, 1.640e+02,\n",
              "        1.720e+02, 1.390e+02, 2.030e+02, 1.550e+02, 2.090e+02, 1.160e+02,\n",
              "        2.930e+02, 1.600e+02, 2.390e+02, 2.290e+02, 1.610e+02, 2.430e+02,\n",
              "        2.060e+02, 1.520e+02, 1.660e+02, 1.070e+02, 1.740e+02, 1.500e+02,\n",
              "        1.600e+02, 1.930e+02, 1.740e+02, 1.190e+02, 1.200e+02, 1.000e+02,\n",
              "        1.420e+02, 1.130e+02, 1.220e+02, 1.270e+02, 8.500e+01, 1.080e+02,\n",
              "        6.400e+01, 3.200e+01, 5.800e+01, 4.000e+01, 5.500e+01, 6.100e+01,\n",
              "        4.200e+01, 4.200e+01, 5.400e+01, 4.500e+01, 3.400e+01, 3.200e+01,\n",
              "        3.000e+01, 2.000e+01, 3.800e+01, 1.000e+01, 0.000e+00, 8.000e+00,\n",
              "        1.000e+01, 1.600e+01, 2.400e+01, 4.000e+00, 0.000e+00, 8.000e+00,\n",
              "        2.000e+00, 2.000e+00, 0.000e+00, 0.000e+00, 0.000e+00, 0.000e+00,\n",
              "        0.000e+00, 0.000e+00, 0.000e+00, 0.000e+00, 0.000e+00, 0.000e+00,\n",
              "        0.000e+00, 0.000e+00, 0.000e+00, 4.000e+00]),\n",
              " array([    0.        ,   160.82255199,   321.64510399,   482.46765598,\n",
              "          643.29020798,   804.11275997,   964.93531197,  1125.75786396,\n",
              "         1286.58041596,  1447.40296795,  1608.22551995,  1769.04807194,\n",
              "         1929.87062394,  2090.69317593,  2251.51572793,  2412.33827992,\n",
              "         2573.16083192,  2733.98338391,  2894.80593591,  3055.6284879 ,\n",
              "         3216.4510399 ,  3377.27359189,  3538.09614389,  3698.91869588,\n",
              "         3859.74124788,  4020.56379987,  4181.38635186,  4342.20890386,\n",
              "         4503.03145585,  4663.85400785,  4824.67655984,  4985.49911184,\n",
              "         5146.32166383,  5307.14421583,  5467.96676782,  5628.78931982,\n",
              "         5789.61187181,  5950.43442381,  6111.2569758 ,  6272.0795278 ,\n",
              "         6432.90207979,  6593.72463179,  6754.54718378,  6915.36973578,\n",
              "         7076.19228777,  7237.01483977,  7397.83739176,  7558.65994376,\n",
              "         7719.48249575,  7880.30504775,  8041.12759974,  8201.95015173,\n",
              "         8362.77270373,  8523.59525572,  8684.41780772,  8845.24035971,\n",
              "         9006.06291171,  9166.8854637 ,  9327.7080157 ,  9488.53056769,\n",
              "         9649.35311969,  9810.17567168,  9970.99822368, 10131.82077567,\n",
              "        10292.64332767, 10453.46587966, 10614.28843166, 10775.11098365,\n",
              "        10935.93353565, 11096.75608764, 11257.57863964, 11418.40119163,\n",
              "        11579.22374363, 11740.04629562, 11900.86884762, 12061.69139961,\n",
              "        12222.51395161, 12383.3365036 , 12544.15905559, 12704.98160759,\n",
              "        12865.80415958, 13026.62671158, 13187.44926357, 13348.27181557,\n",
              "        13509.09436756, 13669.91691956, 13830.73947155, 13991.56202355,\n",
              "        14152.38457554, 14313.20712754, 14474.02967953, 14634.85223153,\n",
              "        14795.67478352, 14956.49733552, 15117.31988751, 15278.14243951,\n",
              "        15438.9649915 , 15599.7875435 , 15760.61009549, 15921.43264749,\n",
              "        16082.25519948]),\n",
              " <a list of 100 Patch objects>)"
            ]
          },
          "metadata": {
            "tags": []
          },
          "execution_count": 23
        },
        {
          "output_type": "display_data",
          "data": {
            "image/png": "[encoded data removed]",
            "text/plain": [
              "<Figure size 432x288 with 1 Axes>"
            ]
          },
          "metadata": {
            "tags": [],
            "needs_background": "light"
          }
        }
      ]
    },
    {
      "cell_type": "code",
      "metadata": {
        "id": "if6YGTPxgVK7"
      },
      "source": [
        ""
      ],
      "execution_count": null,
      "outputs": []
    }
  ]
}